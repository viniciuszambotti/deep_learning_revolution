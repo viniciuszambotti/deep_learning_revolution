{
 "cells": [
  {
   "cell_type": "code",
   "execution_count": 1,
   "metadata": {},
   "outputs": [],
   "source": [
    "import tensorflow as tf\n",
    "import numpy as np\n",
    "\n",
    "from tensorflow.keras.datasets import mnist"
   ]
  },
  {
   "cell_type": "markdown",
   "metadata": {},
   "source": [
    "In this example, the MNIST dataset will be used that is packaged as part of the TensorFlow\n",
    "installation. This MNIST dataset is a set of 28×28 pixel grayscale images which represent\n",
    "hand-written digits. It has 60,000 training rows, 10,000 testing rows and 5,000 validation\n",
    "rows. It is a very common, basic, image classification dataset that is used in machine\n",
    "learning. "
   ]
  },
  {
   "cell_type": "code",
   "execution_count": 2,
   "metadata": {},
   "outputs": [
    {
     "data": {
      "text/plain": [
       "'2.0.0'"
      ]
     },
     "execution_count": 2,
     "metadata": {},
     "output_type": "execute_result"
    }
   ],
   "source": [
    "tf.__version__"
   ]
  },
  {
   "cell_type": "code",
   "execution_count": 3,
   "metadata": {},
   "outputs": [],
   "source": [
    "(x_train, y_train), (x_test, y_test) = mnist.load_data()"
   ]
  },
  {
   "cell_type": "code",
   "execution_count": 4,
   "metadata": {},
   "outputs": [],
   "source": [
    "def get_batch(x, y, size):\n",
    "    idxs = np.random.randint(0, len(y), size)\n",
    "    return x[idxs,:,:], y[idxs]"
   ]
  },
  {
   "cell_type": "code",
   "execution_count": 5,
   "metadata": {},
   "outputs": [],
   "source": [
    "epochs = 10\n",
    "batch_size = 100\n",
    "\n",
    "# normaliza as imagens, valores ficam entre 0 e 1\n",
    "x_train = x_train / 255.0\n",
    "x_test = x_test / 255.0\n",
    "\n",
    "# converte o x_test para tensor para ser usado no modelo, dados de treinamento serão convertidos on the fly\n",
    "x_test = tf.Variable(x_test)"
   ]
  },
  {
   "cell_type": "markdown",
   "metadata": {},
   "source": [
    "## Cria os layers "
   ]
  },
  {
   "cell_type": "code",
   "execution_count": 6,
   "metadata": {},
   "outputs": [],
   "source": [
    "# Declara pesos conectando o input com a camada oculta\n",
    "W1 = tf.Variable(tf.random.normal([784, 300], stddev= 0.03), name='w1')\n",
    "b1 = tf.Variable(tf.random.normal([300]), name='b1')\n",
    "\n",
    "# e os pesos conectando a camada oculta à camada de saida\n",
    "W2 = tf.Variable(tf.random.normal([300, 10], stddev= 0.03), name='w2')\n",
    "b2 = tf.Variable(tf.random.normal([10]), name='b2')"
   ]
  },
  {
   "cell_type": "markdown",
   "metadata": {},
   "source": [
    "O formato do W1 é um tensor [784,300] - os 784 nós é o tamanho da camada de entrada, como nós temos imagens de 28x28. multiplicando esses valores <br>\n",
    "temos 784, os 300 são o numéro de nós na camada oculta. O W2 é um tensor [300,10], que conecta os 300 nós da camada oculta <br>\n",
    "aos 10 nós da camada de saída, que são o número de classes do dataset "
   ]
  },
  {
   "cell_type": "code",
   "execution_count": 7,
   "metadata": {},
   "outputs": [],
   "source": [
    "def nn_model(x, W1, b1, W2, b2):\n",
    "    # deiaa o arra flat, da imagem de 28x28 se torna 784\n",
    "    x = tf.reshape(x, (x.shape[0], -1))\n",
    "    x = tf.add(tf.matmul(tf.cast(x , tf.float32), W1), b1)\n",
    "    x = tf.nn.relu(x)\n",
    "    \n",
    "    logits = tf.add(tf.matmul(x, W2), b2)\n",
    "    return logits"
   ]
  },
  {
   "cell_type": "markdown",
   "metadata": {},
   "source": [
    "![title](images/nn_model.png) <br>\n",
    "\n",
    "onde W são os pesos da matriz, x é o vetor de entrada, b é o bias e f é a função de ativação. Esse cálculo é para a operação de feed-foward"
   ]
  },
  {
   "cell_type": "code",
   "execution_count": 8,
   "metadata": {},
   "outputs": [],
   "source": [
    "def loss_fn(logits, labels):\n",
    "    cross_entropy = tf.reduce_mean(tf.nn.softmax_cross_entropy_with_logits(labels = labels, \n",
    "                                                                           logits= logits))\n",
    "    return cross_entropy"
   ]
  },
  {
   "cell_type": "code",
   "execution_count": 9,
   "metadata": {},
   "outputs": [],
   "source": [
    "# cria otimizador\n",
    "optimizer = tf.keras.optimizers.Adam()"
   ]
  },
  {
   "cell_type": "markdown",
   "metadata": {},
   "source": [
    "## Treinando a rede"
   ]
  },
  {
   "cell_type": "code",
   "execution_count": 10,
   "metadata": {},
   "outputs": [
    {
     "name": "stdout",
     "output_type": "stream",
     "text": [
      "Epoch:1, loss=0.367, test set    accuracy=93.840%\n",
      "Epoch:2, loss=0.155, test set    accuracy=96.180%\n",
      "Epoch:3, loss=0.100, test set    accuracy=96.800%\n",
      "Epoch:4, loss=0.075, test set    accuracy=97.360%\n",
      "Epoch:5, loss=0.059, test set    accuracy=97.600%\n",
      "Epoch:6, loss=0.045, test set    accuracy=97.620%\n",
      "Epoch:7, loss=0.035, test set    accuracy=97.850%\n",
      "Epoch:8, loss=0.030, test set    accuracy=97.750%\n",
      "Epoch:9, loss=0.022, test set    accuracy=97.680%\n",
      "Epoch:10, loss=0.019, test set    accuracy=97.990%\n",
      "\n",
      "Training complete\n"
     ]
    }
   ],
   "source": [
    "# determina o numero de batches para roda em cada época, garante que na média cada amostra de treinamento será usada\n",
    "total_batch = int(len(y_train)/ batch_size)\n",
    "\n",
    "for epoch in range(epochs):\n",
    "    \n",
    "    # acompanha a média de loss para cada época\n",
    "    avg_loss = 0\n",
    "    \n",
    "    for i in range(total_batch):\n",
    "        \n",
    "        # obtem uma amostra aleatória\n",
    "        batch_x, batch_y = get_batch(x_train, y_train, batch_size)\n",
    "        \n",
    "        # Cria tensores\n",
    "        batch_x = tf.Variable(batch_x)\n",
    "        batch_y = tf.Variable(batch_y)\n",
    "        \n",
    "        # Cria vetor one hot\n",
    "        batch_y = tf.one_hot(batch_y, 10)\n",
    "        \n",
    "        # API para o TF calcular os gradients, qualquer operação e/ou variveis dentro desse contexto, o TF irá capturar os gradientes\n",
    "        with tf.GradientTape() as tape:\n",
    "            \n",
    "            # TF agora sabe quais operações e variaveis deve fazer o tracking, para  depois podermos fazer operações com os gradientes\n",
    "            logits = nn_model(batch_x, W1, b1, W2, b2)\n",
    "            loss = loss_fn(logits, batch_y)\n",
    "         \n",
    "        #calcula a derivada (dL/dw & Dl/db)\n",
    "        gradients = tape.gradient(loss, [W1, b1, W2, b2])\n",
    "        \n",
    "        # associa o gradient aos pesos e bias e executa o gradiente descendente\n",
    "        optimizer.apply_gradients(zip(gradients, [W1, b1, W2, b2]))\n",
    "        \n",
    "        # Loss médio da época\n",
    "        avg_loss += loss / total_batch\n",
    "        \n",
    "    test_logits = nn_model(x_test, W1, b1, W2, b2)\n",
    "    max_idxs = tf.argmax(test_logits, axis= 1)\n",
    "    test_acc = np.sum(max_idxs.numpy() == y_test)/ len(y_test)\n",
    "    \n",
    "    print(f\"Epoch:{epoch + 1}, loss={avg_loss:.3f}, test set    accuracy={test_acc * 100:.3f}%\")\n",
    "\n",
    "print(\"\\nTraining complete\")\n",
    "        \n",
    "            \n",
    "        "
   ]
  },
  {
   "cell_type": "code",
   "execution_count": null,
   "metadata": {},
   "outputs": [],
   "source": []
  }
 ],
 "metadata": {
  "kernelspec": {
   "display_name": "Python 3.7.4",
   "language": "python",
   "name": "other-env"
  },
  "language_info": {
   "codemirror_mode": {
    "name": "ipython",
    "version": 3
   },
   "file_extension": ".py",
   "mimetype": "text/x-python",
   "name": "python",
   "nbconvert_exporter": "python",
   "pygments_lexer": "ipython3",
   "version": "3.7.4"
  }
 },
 "nbformat": 4,
 "nbformat_minor": 2
}
