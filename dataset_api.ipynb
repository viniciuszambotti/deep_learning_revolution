{
 "cells": [
  {
   "cell_type": "code",
   "execution_count": 41,
   "metadata": {},
   "outputs": [],
   "source": [
    "import numpy as np\n",
    "import tensorflow as tf\n",
    "\n",
    "from tensorflow.keras.datasets import mnist\n"
   ]
  },
  {
   "cell_type": "markdown",
   "metadata": {},
   "source": [
    "## Básico"
   ]
  },
  {
   "cell_type": "code",
   "execution_count": null,
   "metadata": {},
   "outputs": [],
   "source": [
    "x = np.arange(0, 10)"
   ]
  },
  {
   "cell_type": "code",
   "execution_count": null,
   "metadata": {},
   "outputs": [],
   "source": [
    "# cria Dataset object à partir de um np array\n",
    "dx = tf.data.Dataset.from_tensor_slices(x)"
   ]
  },
  {
   "cell_type": "code",
   "execution_count": null,
   "metadata": {},
   "outputs": [],
   "source": [
    "iterator = iter(dx)"
   ]
  },
  {
   "cell_type": "code",
   "execution_count": null,
   "metadata": {},
   "outputs": [],
   "source": [
    "for i in range(10):\n",
    "    print(next(iterator).numpy())"
   ]
  },
  {
   "cell_type": "code",
   "execution_count": null,
   "metadata": {},
   "outputs": [],
   "source": [
    "# garante que sempre irá pegar um valor do dataset, utilizando o repeat()\n",
    "dx = tf.data.Dataset.from_tensor_slices(x).repeat()\n",
    "iterator = iter(dx)"
   ]
  },
  {
   "cell_type": "code",
   "execution_count": null,
   "metadata": {},
   "outputs": [],
   "source": [
    "for i in range(15):\n",
    "    print(next(iterator).numpy())"
   ]
  },
  {
   "cell_type": "code",
   "execution_count": null,
   "metadata": {},
   "outputs": [],
   "source": [
    "# pega batches do dataset\n",
    "dx = tf.data.Dataset.from_tensor_slices(x).repeat().batch(3)\n",
    "iterator = iter(dx)"
   ]
  },
  {
   "cell_type": "code",
   "execution_count": null,
   "metadata": {},
   "outputs": [],
   "source": [
    "for i in range(15):\n",
    "    print(next(iterator).numpy())"
   ]
  },
  {
   "cell_type": "markdown",
   "metadata": {},
   "source": [
    "  "
   ]
  },
  {
   "cell_type": "code",
   "execution_count": null,
   "metadata": {},
   "outputs": [],
   "source": [
    "def simple_zip_example():\n",
    "    x = np.arange(0, 10)\n",
    "    y = np.arange(1, 11)\n",
    "    \n",
    "    # cria objetos dataset à partir dos arrays\n",
    "    dx = tf.data.Dataset.from_tensor_slices(x)\n",
    "    dy = tf.data.Dataset.from_tensor_slices(y)\n",
    "    \n",
    "    # faz uma tupla de valores e labels\n",
    "    dcomb = tf.data.Dataset.zip((dx, dy)).repeat().batch(3)\n",
    "    iterator = iter(dcomb)\n",
    "    \n",
    "    for i in range(15):\n",
    "        data = next(iterator)\n",
    "        print(f\"x:{data[0].numpy()}, y:{data[1].numpy()}\")\n",
    "\n",
    "simple_zip_example()"
   ]
  },
  {
   "cell_type": "markdown",
   "metadata": {},
   "source": [
    "  "
   ]
  },
  {
   "cell_type": "markdown",
   "metadata": {},
   "source": [
    "  "
   ]
  },
  {
   "cell_type": "markdown",
   "metadata": {},
   "source": [
    "  "
   ]
  },
  {
   "cell_type": "markdown",
   "metadata": {},
   "source": [
    "## MNIST DATASET"
   ]
  },
  {
   "cell_type": "code",
   "execution_count": 34,
   "metadata": {},
   "outputs": [],
   "source": [
    "(x_train, y_train), (x_test, y_test) = mnist.load_data()"
   ]
  },
  {
   "cell_type": "code",
   "execution_count": 42,
   "metadata": {},
   "outputs": [],
   "source": [
    "# converte valores para float e depois aplica normalização\n",
    "dx_train = tf.data.Dataset.from_tensor_slices(x_train).map(lambda x: tf.cast(x, tf.float32) / 255.0)\n",
    "\n",
    "#transforma em um array 3D altura, largura e os canais de cor(1 porque são imagens em escala de cinza)\n",
    "dx_train = dx_train.map(lambda x: tf.reshape(x, (28, 28, 1)))\n",
    "\n",
    "# transforma labels em int\n",
    "dy_train = tf.data.Dataset.from_tensor_slices(y_train).map(lambda x: tf.cast(x, tf.int32))"
   ]
  },
  {
   "cell_type": "code",
   "execution_count": 43,
   "metadata": {},
   "outputs": [],
   "source": [
    "# junta a imagem com um label, faz um shuffle nos dados e pega uma amostra de 32 imagens\n",
    "train_dataset = tf.data.Dataset.zip((dx_train, dy_train)).repeat().shuffle(500).batch(32)"
   ]
  },
  {
   "cell_type": "code",
   "execution_count": 44,
   "metadata": {},
   "outputs": [],
   "source": [
    "# converte valores para float e depois aplica normalização\n",
    "dx_test = tf.data.Dataset.from_tensor_slices(x_test).map(lambda x: tf.cast(x, tf.float32) / 255.0)\n",
    "\n",
    "#transforma em um array 3D altura, largura e os canais de cor(1 porque são imagens em escala de cinza)\n",
    "dx_test = dx_test.map(lambda x: tf.reshape(x, (28, 28, 1)))\n",
    "\n",
    "# transforma labels em int\n",
    "dy_test = tf.data.Dataset.from_tensor_slices(y_test).map(lambda x: tf.cast(x, tf.int32))"
   ]
  },
  {
   "cell_type": "code",
   "execution_count": 45,
   "metadata": {},
   "outputs": [],
   "source": [
    "# junta a imagem com um label, faz um shuffle nos dados e pega uma amostra de 32 imagens\n",
    "test_dataset = tf.data.Dataset.zip((dx_test, dy_test)).repeat().shuffle(1000).batch(500)"
   ]
  },
  {
   "cell_type": "code",
   "execution_count": 46,
   "metadata": {},
   "outputs": [],
   "source": [
    "# cria iterators\n",
    "\n",
    "train_iter = iter(train_dataset)\n",
    "test_iter = iter(test_dataset)"
   ]
  },
  {
   "cell_type": "code",
   "execution_count": 48,
   "metadata": {},
   "outputs": [],
   "source": [
    "class ConvLayer(tf.keras.layers.Layer):\n",
    "    def __init__(self, activation, input_channels, output_channels, window_size, pool_size, filt_stride, pool_stride,\n",
    "        initializer=tf.keras.initializers.he_normal()):\n",
    "        super(ConvLayer, self).__init__()\n",
    "        self.initializer = initializer\n",
    "        self.activation = activation\n",
    "        self.input_channels = input_channels\n",
    "        self.output_channels = output_channels\n",
    "        self.window_size = window_size\n",
    "        self.pool_size = pool_size\n",
    "        self.filt_stride = filt_stride\n",
    "        self.pool_stride = pool_stride\n",
    "        self.w = self.add_weight(shape=(window_size[0], window_size[1], input_channels, output_channels),\n",
    "                                 initializer=self.initializer,trainable=True)\n",
    "        \n",
    "        self.b = self.add_weight(shape=(output_channels,), initializer=tf.zeros_initializer, trainable=True)\n",
    "    \n",
    "    def call(self, inputs):\n",
    "        filt_stride = [1, self.filt_stride[0], self.filt_stride[1], 1]\n",
    "        out_layer = tf.nn.conv2d(inputs, self.w, filt_stride, padding='SAME')\n",
    "        # add the bias\n",
    "        out_layer += self.b\n",
    "        out_layer = self.activation(out_layer)\n",
    "        pool_shape = [1, self.pool_size[0], self.pool_size[1], 1]\n",
    "        pool_strides = [1, self.pool_stride[0], self.pool_stride[1], 1]\n",
    "        out_layer = tf.nn.max_pool(out_layer, ksize=pool_shape, strides=pool_strides, padding='SAME')\n",
    "        return out_layer"
   ]
  },
  {
   "cell_type": "code",
   "execution_count": 51,
   "metadata": {},
   "outputs": [],
   "source": [
    "def loss_fn(logits, labels):\n",
    "    cross_entropy = tf.reduce_mean(tf.nn.softmax_cross_entropy_with_logits(labels = labels, \n",
    "                                                                           logits= logits))\n",
    "    return cross_entropy"
   ]
  },
  {
   "cell_type": "code",
   "execution_count": 49,
   "metadata": {},
   "outputs": [],
   "source": [
    "model = tf.keras.Sequential([\n",
    "    ConvLayer(tf.nn.relu, 1, 32, [5, 5], [2, 2], [1, 1], [2, 2]),\n",
    "    ConvLayer(tf.nn.relu, 32, 64, [5, 5], [2, 2], [1, 1], [2, 2]),\n",
    "    tf.keras.layers.Flatten(),\n",
    "    tf.keras.layers.Dense(300, activation=tf.nn.relu, kernel_initializer=tf.keras.initializers.he_normal()),\n",
    "    tf.keras.layers.Dropout(0.5),\n",
    "    tf.keras.layers.Dense(10, activation=None)\n",
    "])"
   ]
  },
  {
   "cell_type": "code",
   "execution_count": 53,
   "metadata": {},
   "outputs": [
    {
     "name": "stdout",
     "output_type": "stream",
     "text": [
      "Iter: 0, loss=2.741, train accuracy=3.125%, test accuracy=24.200%\n",
      "Iter: 50, loss=0.019, train accuracy=100.000%, test accuracy=88.200%\n",
      "Iter: 100, loss=0.141, train accuracy=96.875%, test accuracy=93.600%\n",
      "Iter: 150, loss=0.067, train accuracy=100.000%, test accuracy=94.200%\n",
      "Iter: 200, loss=0.505, train accuracy=81.250%, test accuracy=93.200%\n",
      "Iter: 250, loss=0.287, train accuracy=90.625%, test accuracy=94.800%\n",
      "Iter: 300, loss=0.017, train accuracy=100.000%, test accuracy=92.800%\n",
      "Iter: 350, loss=0.168, train accuracy=96.875%, test accuracy=96.200%\n",
      "Iter: 400, loss=0.036, train accuracy=100.000%, test accuracy=97.800%\n",
      "Iter: 450, loss=0.168, train accuracy=96.875%, test accuracy=98.800%\n",
      "Iter: 500, loss=0.019, train accuracy=100.000%, test accuracy=98.200%\n",
      "Iter: 550, loss=0.093, train accuracy=96.875%, test accuracy=98.600%\n",
      "Iter: 600, loss=0.175, train accuracy=96.875%, test accuracy=98.800%\n",
      "Iter: 650, loss=0.069, train accuracy=96.875%, test accuracy=98.200%\n",
      "Iter: 700, loss=0.133, train accuracy=90.625%, test accuracy=98.000%\n",
      "Iter: 750, loss=0.037, train accuracy=100.000%, test accuracy=99.000%\n",
      "Iter: 800, loss=0.038, train accuracy=96.875%, test accuracy=96.800%\n",
      "Iter: 850, loss=0.074, train accuracy=96.875%, test accuracy=97.400%\n",
      "Iter: 900, loss=0.006, train accuracy=100.000%, test accuracy=97.000%\n",
      "Iter: 950, loss=0.248, train accuracy=90.625%, test accuracy=98.000%\n"
     ]
    }
   ],
   "source": [
    "\n",
    "iterations = 1000\n",
    "optimizer = tf.keras.optimizers.Adam()\n",
    "for i in range(iterations):\n",
    "    batch_x, batch_y = next(train_iter)\n",
    "    batch_y_one_hot = tf.one_hot(batch_y, 10)\n",
    "    \n",
    "    with tf.GradientTape() as tape:\n",
    "        logits = model(batch_x)\n",
    "        loss = loss_fn(logits, batch_y_one_hot)\n",
    "        \n",
    "    gradients = tape.gradient(loss, model.trainable_variables)\n",
    "    optimizer.apply_gradients(zip(gradients, model.trainable_variables))\n",
    "    \n",
    "    if i % 50 == 0:\n",
    "        max_idxs = tf.argmax(logits, axis=1)\n",
    "        train_acc = np.sum(max_idxs.numpy() == batch_y.numpy()) / len(batch_y)\n",
    "        # get the test data\n",
    "        x_test, y_test = next(test_iter)\n",
    "        \n",
    "        test_logits = model(x_test, training=False)\n",
    "        max_idxs = tf.argmax(test_logits, axis=1)\n",
    "        test_acc = np.sum(max_idxs.numpy() == y_test.numpy()) / len(y_test)\n",
    "        \n",
    "        print(f\"Iter: {i}, loss={loss:.3f}, \"\n",
    "              f\"train accuracy={train_acc * 100:.3f}%, test accuracy={test_acc * 100:.3f}%\")"
   ]
  },
  {
   "cell_type": "code",
   "execution_count": null,
   "metadata": {},
   "outputs": [],
   "source": []
  }
 ],
 "metadata": {
  "kernelspec": {
   "display_name": "Python 3.7.4",
   "language": "python",
   "name": "other-env"
  },
  "language_info": {
   "codemirror_mode": {
    "name": "ipython",
    "version": 3
   },
   "file_extension": ".py",
   "mimetype": "text/x-python",
   "name": "python",
   "nbconvert_exporter": "python",
   "pygments_lexer": "ipython3",
   "version": "3.7.4"
  }
 },
 "nbformat": 4,
 "nbformat_minor": 2
}
